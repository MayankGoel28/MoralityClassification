{
 "cells": [
  {
   "cell_type": "code",
   "execution_count": 1,
   "id": "64705c5f",
   "metadata": {},
   "outputs": [],
   "source": [
    "f1 = open('post_data.json','r')\n",
    "f2 = open('comments_data.json','r')\n"
   ]
  },
  {
   "cell_type": "code",
   "execution_count": 2,
   "id": "324356ad",
   "metadata": {},
   "outputs": [],
   "source": [
    "import json"
   ]
  },
  {
   "cell_type": "code",
   "execution_count": 3,
   "id": "92243e7c",
   "metadata": {},
   "outputs": [],
   "source": [
    "x1 = json.load(f1)\n",
    "x2 = json.load(f2)"
   ]
  },
  {
   "cell_type": "code",
   "execution_count": 64,
   "id": "6f79607e",
   "metadata": {},
   "outputs": [
    {
     "data": {
      "text/plain": [
       "{'url': 'https://www.reddit.com/r/AmItheAsshole/comments/lu7age/aita_for_refusing_to_get_off_the_pc_when_my/',\n",
       " 'title': 'AITA for refusing to get off the PC when my brother “asked”',\n",
       " 'selftext': 'I was just on the house PC watching some YouTube and playing some apex legends while all of a sudden my little brother comes out his room in the hallway (which is in direct view of the PC) and says I’m going on the PC now, get off. I said no I’m doing something you could have gone on it and used it for the rest of the night if you came out of your room sometime in the last 45 minutes while I was making and eating dinner. He retorted that I had been on the PC all day and granted I had been using it a large amount of time(5-6 hours total with some short breaks) but he could have asked politely to use it at any point during that time rather than being rude just now. He of course goes and complains to our dad who says I have to get off (just for the reasoning of how long I had been on it), which I think is BS because first off if he wants to use it ask politely/don’t be rude and second off there was more than one time he could have used it while I wasn’t earlier in the day so why now when I say I’m in the middle of something?',\n",
       " 'score': 10,\n",
       " 'num_comments': 23,\n",
       " 'id': 'lu7age'}"
      ]
     },
     "execution_count": 64,
     "metadata": {},
     "output_type": "execute_result"
    }
   ],
   "source": [
    "x1[0]"
   ]
  },
  {
   "cell_type": "code",
   "execution_count": 58,
   "id": "01d429b5",
   "metadata": {
    "scrolled": true
   },
   "outputs": [
    {
     "data": {
      "text/plain": [
       "(13105, 13105)"
      ]
     },
     "execution_count": 58,
     "metadata": {},
     "output_type": "execute_result"
    }
   ],
   "source": [
    "len(x1), len(x2)"
   ]
  },
  {
   "cell_type": "code",
   "execution_count": 65,
   "id": "020b32b6",
   "metadata": {},
   "outputs": [],
   "source": [
    "new_data = []\n",
    "morals, immorals, labels = [], [], []"
   ]
  },
  {
   "cell_type": "code",
   "execution_count": 68,
   "id": "a4335d91",
   "metadata": {},
   "outputs": [],
   "source": [
    "import re\n",
    "def clean_text(tweet):\n",
    "    # Remove hashtags\n",
    "    tweet = re.sub(\"#\\w*\", \"\", tweet)\n",
    "    # Remove @\n",
    "    tweet = re.sub(\"@\\w*\", \"\", tweet)\n",
    "    tweet = re.sub(\"&amp\", \"\", tweet)\n",
    "    tweet = tweet.replace(\"\\n\", \" \")\n",
    "    # Remove multiple spaces\n",
    "    tweet = re.sub(\"\\s{2,}\", \" \", tweet)\n",
    "    # Remove non-ascii\n",
    "    tweet = tweet.encode(\"ascii\", \"ignore\").decode(\"ascii\")\n",
    "    tweet = tweet.strip()\n",
    "    return tweet"
   ]
  },
  {
   "cell_type": "code",
   "execution_count": 69,
   "id": "2f17b5c0",
   "metadata": {},
   "outputs": [],
   "source": [
    "for comments, post in zip(x2,x1):\n",
    "    new_dic = post.copy()\n",
    "    moral, immoral = 0,0\n",
    "    for comment in comments['comments']:\n",
    "        if 'NTA' in comment:\n",
    "            moral+=1\n",
    "        elif 'YTA' in comment or 'ESH' in comment:\n",
    "            immoral+=1\n",
    "    morals.append(moral)\n",
    "    immorals.append(immoral)\n",
    "    new_dic['title'] = clean_text(new_dic['title'])\n",
    "    new_dic['selftext'] = clean_text(new_dic['selftext'])\n",
    "    new_dic['moral'] = moral\n",
    "    new_dic['immoral'] = immoral\n",
    "    if moral+immoral == 0:\n",
    "        continue\n",
    "    new_dic['morality'] = round(moral/(moral+immoral), 2)\n",
    "    new_dic['label'] = 1 if new_dic['morality'] > 0.7 else -1 if new_dic['morality'] < 0.3 else 0\n",
    "    labels.append(new_dic['label'])\n",
    "    new_data.append(new_dic)"
   ]
  },
  {
   "cell_type": "code",
   "execution_count": 70,
   "id": "285bb5b9",
   "metadata": {},
   "outputs": [
    {
     "data": {
      "text/plain": [
       "(2263, 2112, 8544)"
      ]
     },
     "execution_count": 70,
     "metadata": {},
     "output_type": "execute_result"
    }
   ],
   "source": [
    "labels.count(-1), labels.count(0), labels.count(1)"
   ]
  },
  {
   "cell_type": "code",
   "execution_count": 72,
   "id": "c0d959cc",
   "metadata": {},
   "outputs": [],
   "source": [
    "from pprint import pprint"
   ]
  },
  {
   "cell_type": "code",
   "execution_count": 73,
   "id": "a258640d",
   "metadata": {},
   "outputs": [
    {
     "name": "stdout",
     "output_type": "stream",
     "text": [
      "[{'id': 'lu7age',\n",
      "  'immoral': 5,\n",
      "  'label': -1,\n",
      "  'moral': 1,\n",
      "  'morality': 0.17,\n",
      "  'num_comments': 23,\n",
      "  'score': 10,\n",
      "  'selftext': 'I was just on the house PC watching some YouTube and playing '\n",
      "              'some apex legends while all of a sudden my little brother comes '\n",
      "              'out his room in the hallway (which is in direct view of the PC) '\n",
      "              'and says Im going on the PC now, get off. I said no Im doing '\n",
      "              'something you could have gone on it and used it for the rest of '\n",
      "              'the night if you came out of your room sometime in the last 45 '\n",
      "              'minutes while I was making and eating dinner. He retorted that '\n",
      "              'I had been on the PC all day and granted I had been using it a '\n",
      "              'large amount of time(5-6 hours total with some short breaks) '\n",
      "              'but he could have asked politely to use it at any point during '\n",
      "              'that time rather than being rude just now. He of course goes '\n",
      "              'and complains to our dad who says I have to get off (just for '\n",
      "              'the reasoning of how long I had been on it), which I think is '\n",
      "              'BS because first off if he wants to use it ask politely/dont be '\n",
      "              'rude and second off there was more than one time he could have '\n",
      "              'used it while I wasnt earlier in the day so why now when I say '\n",
      "              'Im in the middle of something?',\n",
      "  'title': 'AITA for refusing to get off the PC when my brother asked',\n",
      "  'url': 'https://www.reddit.com/r/AmItheAsshole/comments/lu7age/aita_for_refusing_to_get_off_the_pc_when_my/'},\n",
      " {'id': 'lu6hmj',\n",
      "  'immoral': 0,\n",
      "  'label': 1,\n",
      "  'moral': 7,\n",
      "  'morality': 1.0,\n",
      "  'num_comments': 13,\n",
      "  'score': 7,\n",
      "  'selftext': \"Ok so this is a really ridiculous problem. I'm living with my \"\n",
      "              \"bf now, who works from home. I'm doing Master's level studies \"\n",
      "              'and have lots of lectures via Zoom or Teams, and in the past '\n",
      "              \"year I've had many classes with the same professor. So my bf \"\n",
      "              'ends up listening to many of my lectures, and while he never '\n",
      "              'pays attention to the actual content, somehow he has paid '\n",
      "              'attention to multiple instances of this same professor saying '\n",
      "              \"funny or strange stuff, and this, combined with the professor's \"\n",
      "              'name, has resulted in my bf referring to the professor as '\n",
      "              '\"Chaotic Evil\". I found it super hilarious at first, so even I '\n",
      "              'used it for a while. But the problem is that I do pic up words '\n",
      "              \"too easily, so I don't want to accidentally use the nickname in \"\n",
      "              \"a situation where I could embarrass myself. Besides, I'll \"\n",
      "              'probably take more of his courses and maybe even have his as '\n",
      "              'thesis advisor or something. So I did tell my bf to stop using '\n",
      "              'the nickname, and he was fine with it, but after a while he '\n",
      "              'began using it again, then I told him again, then I heard him '\n",
      "              'using it again, I got frustrated and just said a really loud '\n",
      "              '\"aaah!!\" and bf got mad at me for \"making it such a big deal\". '\n",
      "              'AITA?',\n",
      "  'title': 'AITA dumb discussion over a silly nickname',\n",
      "  'url': 'https://www.reddit.com/r/AmItheAsshole/comments/lu6hmj/aita_dumb_discussion_over_a_silly_nickname/'},\n",
      " {'id': 'lu4v41',\n",
      "  'immoral': 4,\n",
      "  'label': 0,\n",
      "  'moral': 4,\n",
      "  'morality': 0.5,\n",
      "  'num_comments': 12,\n",
      "  'score': 18,\n",
      "  'selftext': 'So this happened earlier tonight and it caused a lot of '\n",
      "              'controversy, so Im looking to see if I was in the wrong. So our '\n",
      "              'friend has been hosting team trivia nights over Zoom. Its '\n",
      "              'usually about a dozen teams of four and its a ton of fun. '\n",
      "              'Tonight though, there was a bit of controversy that I had '\n",
      "              'caused. So this question was asked: Assuming no ties, what is '\n",
      "              'the maximum number of correct answers able to be given on a '\n",
      "              'single standard episode of Jeopardy? Our team had a lot of '\n",
      "              'debate on the wording of the question, ultimately deciding on '\n",
      "              '63 (30 from regular Jeopardy, 30 from Double Jeopardy, and '\n",
      "              'technically 3 from Final Jeopardy because all three contestants '\n",
      "              'can answer). It turns out that the answer that the host was '\n",
      "              'going for was 61 (just 1 from Final Jeopardy). Heres where I '\n",
      "              'may have been an asshole. I challenged the question, and argued '\n",
      "              'my point with the host for less than a minute and ultimately '\n",
      "              'was awarded a point for my team (there was some back and forth '\n",
      "              'about the nomenclature of Jeopardys style of giving answers and '\n",
      "              'asking for questions, but from what I could find in the rules '\n",
      "              'it looks like Jeopardy gives clues and looks for responses). '\n",
      "              'Everything seemed to be cool, but there was a later question '\n",
      "              'that caused another controversy (regarding whether Vanna White '\n",
      "              'is the host of Wheel of Fortune) where people called us out for '\n",
      "              'not having earned our point if theyre not getting their point. '\n",
      "              'The host sided against them and with us, and people werent '\n",
      "              'happy. All of this was moot because regardless of these '\n",
      "              'outcomes, a team completely divorced from all of this would '\n",
      "              'have won, but Im still feeling like maybe I shouldnt have '\n",
      "              'pushed anything. AITA?',\n",
      "  'title': 'AITA for challenging a trivia ruling at a Zoom trivia night with '\n",
      "           'friends?',\n",
      "  'url': 'https://www.reddit.com/r/AmItheAsshole/comments/lu4v41/aita_for_challenging_a_trivia_ruling_at_a_zoom/'},\n",
      " {'id': 'lu4evj',\n",
      "  'immoral': 1,\n",
      "  'label': 1,\n",
      "  'moral': 5,\n",
      "  'morality': 0.83,\n",
      "  'num_comments': 13,\n",
      "  'score': 13,\n",
      "  'selftext': 'My (16F) friend (16M) and I are extremely close and I like '\n",
      "              \"talking to him. Recently, I've been having a hard time making \"\n",
      "              'friends, same as him, and we frequently talk about that. I am '\n",
      "              'also currently trying to build up the courage to drop some of '\n",
      "              'my current friends who are very toxic and just use me whenever '\n",
      "              'they need homework and they constantly talk about me behind my '\n",
      "              \"back. He knows about it, but I don't really talk about them \"\n",
      "              'that often cause it troubles me. One day, I brought the topic '\n",
      "              'up again because they (my toxic friends) all hung out, and '\n",
      "              'apparently one of their friends said some mean things about me '\n",
      "              \"and they didn't stand up for me. I was really hurt and I was \"\n",
      "              'talking about it with him. At first, he let me talk, but then '\n",
      "              'he started to give his input on the situation. He told me that '\n",
      "              'it was mean but I should \"deal with it\" because it\\'s going to '\n",
      "              \"happen and not everyone's gonna like me. I told him he could be \"\n",
      "              'a bit nicer but we just went on with the discussion. Afterward, '\n",
      "              'he said that he could relate to my situation because some '\n",
      "              \"people were being mean to him. I'll admit, I was hoping we \"\n",
      "              \"could've waited before shifting to what he's going through. But \"\n",
      "              \"I told him to tell me what was going on. Here's his story: He \"\n",
      "              'had a few friends with who he was close with and apparently '\n",
      "              'they had a sort of heated conversation about his feelings for '\n",
      "              'one of them. Apparently, HE blasted at one of the girls and '\n",
      "              'cursed at them, for no reason, and that resulted in them '\n",
      "              'blocking him. They later told him they needed some time before '\n",
      "              'they could talk to them again. I was sorta pissed, because this '\n",
      "              'was in no way similar to my story, cause he brought that on '\n",
      "              'himself. But, regardless, I still said that the situation '\n",
      "              \"sucked and I'm sorry he was going through that. For the next \"\n",
      "              \"week, he was miserable and that was all he'd talk about. One \"\n",
      "              'day, he remembered the whole toxic friend thing I was dealing '\n",
      "              'with and asked how that was going and I said that I was still a '\n",
      "              \"bit sad. Again, he told me that it wasn't that big a deal, but \"\n",
      "              'he could still relate to me. I got mad. And I straight up told '\n",
      "              \"him he has no idea what I'm going through. He brought his \"\n",
      "              'situation on himself by getting mad and cursing at them. If '\n",
      "              \"what I was going through wasn't that big a deal, I wouldn't be \"\n",
      "              'sad right now. He got mad and called me an AH and overdramatic. '\n",
      "              'He also said that I was blaming him for his situation and that '\n",
      "              'made him feel bad. AITA?',\n",
      "  'title': \"AITA for telling my friend that he has no idea what I'm feeling\",\n",
      "  'url': 'https://www.reddit.com/r/AmItheAsshole/comments/lu4evj/aita_for_telling_my_friend_that_he_has_no_idea/'},\n",
      " {'id': 'mlpkoy',\n",
      "  'immoral': 1,\n",
      "  'label': 0,\n",
      "  'moral': 1,\n",
      "  'morality': 0.5,\n",
      "  'num_comments': 10,\n",
      "  'score': 1,\n",
      "  'selftext': 'I (29F) live with my mother (56F) because of cultural, '\n",
      "              \"economic, and health reasons. I'm the sole provider. We don't \"\n",
      "              \"live in the US. Recently we've been very down on our luck \"\n",
      "              \"financially because I've been out of work for almost a year due \"\n",
      "              'to covid and my own health, so we had to ask for help from a '\n",
      "              'non-profit organisation yesterday. When we finished the '\n",
      "              'application, the lady there kind of sprung it on me and asked '\n",
      "              'if it\\'s okay for me to come \"volunteer\" and \"help\" them out, '\n",
      "              'but it felt more like \"we do this for you, you do this for us\" '\n",
      "              'kind of thing, you know what I mean? Now, she caught me by '\n",
      "              \"surprise and I am very bad at saying no. It's something that \"\n",
      "              'has put me in bad positions before, I know I should learn to do '\n",
      "              'it, but I get anxious and tongue tied. So I agreed and said I '\n",
      "              \"would come at a certain hour. What I'm wondering is would I be \"\n",
      "              \"an asshole if I just don't show up? I don't feel comfortable \"\n",
      "              'going there for many reasons: 1) Covid19 2) I suffer from '\n",
      "              'hypertension and a heart condition where normal human physical '\n",
      "              \"exertion leaves me exhausted (they don't know of my health, I \"\n",
      "              \"didn't want to share it with them) 3) She mentioned that she \"\n",
      "              \"wants to pull me into their organisation because I'm \"\n",
      "              '\"educated\" (I\\'m a teacher) and I don\\'t want to be roped into '\n",
      "              'it really, we were just desperate and needed the help and they '\n",
      "              \"didn't give us anything yet anyway. It's not financial help, \"\n",
      "              \"it'll be coupons and a health dicsount if we do get it. They \"\n",
      "              \"won't pull help if I don't go. 4) I'm eager to help anyone but \"\n",
      "              \"I don't want to be screwed over and taken advantage of. I'm \"\n",
      "              'really bad at confrontation and am looking for the reddit '\n",
      "              \"community for help. Please be kind. I don't want to be an \"\n",
      "              \"asshole. Also they won't be left without any help if I don't \"\n",
      "              'show, there are many volunteers. Thank you in advance.',\n",
      "  'title': \"WIBTA if I didn't go help even though I promised\",\n",
      "  'url': 'https://www.reddit.com/r/AmItheAsshole/comments/mlpkoy/wibta_if_i_didnt_go_help_even_though_i_promised/'}]\n"
     ]
    }
   ],
   "source": [
    "pprint(new_data[:5])"
   ]
  },
  {
   "cell_type": "code",
   "execution_count": 71,
   "id": "2c13a0c4",
   "metadata": {},
   "outputs": [],
   "source": [
    "with open('labelled_data.json', 'w') as fout:\n",
    "    json.dump(new_data , fout)"
   ]
  },
  {
   "cell_type": "code",
   "execution_count": null,
   "id": "65954dd8",
   "metadata": {},
   "outputs": [],
   "source": []
  }
 ],
 "metadata": {
  "kernelspec": {
   "display_name": "Python 3",
   "language": "python",
   "name": "python3"
  },
  "language_info": {
   "codemirror_mode": {
    "name": "ipython",
    "version": 3
   },
   "file_extension": ".py",
   "mimetype": "text/x-python",
   "name": "python",
   "nbconvert_exporter": "python",
   "pygments_lexer": "ipython3",
   "version": "3.9.7"
  }
 },
 "nbformat": 4,
 "nbformat_minor": 5
}
