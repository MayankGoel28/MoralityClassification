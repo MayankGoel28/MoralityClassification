{
 "cells": [
  {
   "cell_type": "code",
   "execution_count": 1,
   "id": "72fcf143",
   "metadata": {},
   "outputs": [],
   "source": [
    "f = open('labelled_data.json')"
   ]
  },
  {
   "cell_type": "code",
   "execution_count": 2,
   "id": "78c4043a",
   "metadata": {},
   "outputs": [],
   "source": [
    "import json\n",
    "x = json.load(f)"
   ]
  },
  {
   "cell_type": "code",
   "execution_count": 5,
   "id": "70a49503",
   "metadata": {},
   "outputs": [],
   "source": [
    "immorals = [i for i in x if i['label'] == -1]"
   ]
  },
  {
   "cell_type": "code",
   "execution_count": 6,
   "id": "f3ae12cc",
   "metadata": {},
   "outputs": [
    {
     "data": {
      "text/plain": [
       "2263"
      ]
     },
     "execution_count": 6,
     "metadata": {},
     "output_type": "execute_result"
    }
   ],
   "source": [
    "len(immorals)"
   ]
  },
  {
   "cell_type": "code",
   "execution_count": 7,
   "id": "e0ab9e54",
   "metadata": {},
   "outputs": [],
   "source": [
    "morals = [i for i in x if i['label'] == 1]"
   ]
  },
  {
   "cell_type": "code",
   "execution_count": 8,
   "id": "afe55392",
   "metadata": {},
   "outputs": [
    {
     "data": {
      "text/plain": [
       "8544"
      ]
     },
     "execution_count": 8,
     "metadata": {},
     "output_type": "execute_result"
    }
   ],
   "source": [
    "len(morals)"
   ]
  },
  {
   "cell_type": "code",
   "execution_count": 9,
   "id": "ea8e4cb7",
   "metadata": {},
   "outputs": [],
   "source": [
    "from random import sample"
   ]
  },
  {
   "cell_type": "code",
   "execution_count": 10,
   "id": "5349b9f2",
   "metadata": {},
   "outputs": [],
   "source": [
    "morals = sample(morals, len(immorals))"
   ]
  },
  {
   "cell_type": "code",
   "execution_count": 13,
   "id": "e186f810",
   "metadata": {},
   "outputs": [],
   "source": [
    "all_data = morals + immorals"
   ]
  },
  {
   "cell_type": "code",
   "execution_count": 14,
   "id": "b258cee8",
   "metadata": {},
   "outputs": [
    {
     "data": {
      "text/plain": [
       "4526"
      ]
     },
     "execution_count": 14,
     "metadata": {},
     "output_type": "execute_result"
    }
   ],
   "source": [
    "len(all_data)"
   ]
  },
  {
   "cell_type": "code",
   "execution_count": 26,
   "id": "106e6f0f",
   "metadata": {},
   "outputs": [],
   "source": [
    "x = [i['title']+' '+i['selftext'] for i in all_data]\n",
    "y = [i['label'] for i in all_data]"
   ]
  },
  {
   "cell_type": "code",
   "execution_count": 21,
   "id": "28d24074",
   "metadata": {},
   "outputs": [],
   "source": [
    "import pandas as pd\n",
    "from sklearn.model_selection import train_test_split\n",
    "import joblib\n",
    "from sklearn.feature_extraction.text import CountVectorizer"
   ]
  },
  {
   "cell_type": "code",
   "execution_count": 22,
   "id": "27c58242",
   "metadata": {},
   "outputs": [],
   "source": [
    "x, x_test, y, y_test = train_test_split(x,y, stratify=y, test_size=0.25, random_state=42)"
   ]
  },
  {
   "cell_type": "code",
   "execution_count": 23,
   "id": "64052d1a",
   "metadata": {},
   "outputs": [],
   "source": [
    "# Vectorize text reviews to numbers\n",
    "vec = CountVectorizer(stop_words='english')\n",
    "x = vec.fit_transform(x).toarray()\n",
    "x_test = vec.transform(x_test).toarray()"
   ]
  },
  {
   "cell_type": "code",
   "execution_count": 24,
   "id": "2e2eb88c",
   "metadata": {},
   "outputs": [
    {
     "data": {
      "text/plain": [
       "MultinomialNB()"
      ]
     },
     "execution_count": 24,
     "metadata": {},
     "output_type": "execute_result"
    }
   ],
   "source": [
    "from sklearn.naive_bayes import MultinomialNB\n",
    "\n",
    "model = MultinomialNB()\n",
    "model.fit(x, y)"
   ]
  },
  {
   "cell_type": "code",
   "execution_count": 25,
   "id": "fc5d345c",
   "metadata": {},
   "outputs": [
    {
     "data": {
      "text/plain": [
       "0.5954063604240283"
      ]
     },
     "execution_count": 25,
     "metadata": {},
     "output_type": "execute_result"
    }
   ],
   "source": [
    "model.score(x_test, y_test)"
   ]
  },
  {
   "cell_type": "code",
   "execution_count": 27,
   "id": "abcf17e3",
   "metadata": {},
   "outputs": [],
   "source": [
    "import numpy as np\n",
    "import pandas as pd\n",
    "df = pd.DataFrame(np.column_stack([x,y]), \n",
    "                               columns=['text','category'])"
   ]
  },
  {
   "cell_type": "code",
   "execution_count": 28,
   "id": "65ee640c",
   "metadata": {},
   "outputs": [],
   "source": [
    "df.to_csv('model_data.csv', index=False)"
   ]
  },
  {
   "cell_type": "code",
   "execution_count": null,
   "id": "e051c8c5",
   "metadata": {},
   "outputs": [],
   "source": []
  }
 ],
 "metadata": {
  "kernelspec": {
   "display_name": "Python 3",
   "language": "python",
   "name": "python3"
  },
  "language_info": {
   "codemirror_mode": {
    "name": "ipython",
    "version": 3
   },
   "file_extension": ".py",
   "mimetype": "text/x-python",
   "name": "python",
   "nbconvert_exporter": "python",
   "pygments_lexer": "ipython3",
   "version": "3.9.7"
  }
 },
 "nbformat": 4,
 "nbformat_minor": 5
}
