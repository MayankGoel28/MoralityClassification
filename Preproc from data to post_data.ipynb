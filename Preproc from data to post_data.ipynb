{
 "cells": [
  {
   "cell_type": "code",
   "execution_count": 50,
   "id": "0edff027",
   "metadata": {},
   "outputs": [],
   "source": [
    "f = open('data.json','r')\n",
    "import json\n",
    "x = json.load(f)"
   ]
  },
  {
   "cell_type": "code",
   "execution_count": 51,
   "id": "54993d42",
   "metadata": {},
   "outputs": [],
   "source": [
    "imp_keys = ['url', 'title', 'selftext', 'score', 'num_comments', 'id']"
   ]
  },
  {
   "cell_type": "code",
   "execution_count": 52,
   "id": "fe7b62a9",
   "metadata": {},
   "outputs": [],
   "source": [
    "new_json = []"
   ]
  },
  {
   "cell_type": "code",
   "execution_count": 53,
   "id": "9ecfba56",
   "metadata": {},
   "outputs": [],
   "source": [
    "for item in x:\n",
    "    try:\n",
    "        if int(item['num_comments']) >= 10 and int(item['num_comments']) <= 25 and item['selftext']!='[removed]' and item['selftext']!='[deleted]':\n",
    "            new_json.append(dict((k, item[k]) for k in imp_keys))\n",
    "    except:\n",
    "        pass"
   ]
  },
  {
   "cell_type": "code",
   "execution_count": 54,
   "id": "a5cf46ab",
   "metadata": {},
   "outputs": [
    {
     "data": {
      "text/plain": [
       "13105"
      ]
     },
     "execution_count": 54,
     "metadata": {},
     "output_type": "execute_result"
    }
   ],
   "source": [
    "len(new_json)"
   ]
  },
  {
   "cell_type": "code",
   "execution_count": 55,
   "id": "060db14d",
   "metadata": {},
   "outputs": [
    {
     "data": {
      "text/plain": [
       "[{'url': 'https://www.reddit.com/r/AmItheAsshole/comments/lu7age/aita_for_refusing_to_get_off_the_pc_when_my/',\n",
       "  'title': 'AITA for refusing to get off the PC when my brother “asked”',\n",
       "  'selftext': 'I was just on the house PC watching some YouTube and playing some apex legends while all of a sudden my little brother comes out his room in the hallway (which is in direct view of the PC) and says I’m going on the PC now, get off. I said no I’m doing something you could have gone on it and used it for the rest of the night if you came out of your room sometime in the last 45 minutes while I was making and eating dinner. He retorted that I had been on the PC all day and granted I had been using it a large amount of time(5-6 hours total with some short breaks) but he could have asked politely to use it at any point during that time rather than being rude just now. He of course goes and complains to our dad who says I have to get off (just for the reasoning of how long I had been on it), which I think is BS because first off if he wants to use it ask politely/don’t be rude and second off there was more than one time he could have used it while I wasn’t earlier in the day so why now when I say I’m in the middle of something?',\n",
       "  'score': 10,\n",
       "  'num_comments': 23,\n",
       "  'id': 'lu7age'},\n",
       " {'url': 'https://www.reddit.com/r/AmItheAsshole/comments/lu6hmj/aita_dumb_discussion_over_a_silly_nickname/',\n",
       "  'title': 'AITA dumb discussion over a silly nickname',\n",
       "  'selftext': 'Ok so this is a really ridiculous problem. I\\'m living with my bf now, who works from home. I\\'m doing Master\\'s level studies and have lots of lectures via Zoom or Teams, and in the past year I\\'ve had many classes with the same professor.\\n\\nSo my bf ends up listening to many of my lectures, and while he never pays attention to the actual content, somehow he has paid attention to multiple instances of this same professor saying funny or strange stuff, and this, combined with the professor\\'s name, has resulted in my bf referring to the professor as \"Chaotic Evil\".\\n\\nI found it super hilarious at first, so even I used it for a while. But the problem is that I do pic up words too easily, so I don\\'t want to accidentally use the nickname in a situation where I could embarrass myself. Besides, I\\'ll probably take more of his courses and maybe even have his as thesis advisor or something.\\n\\nSo I did tell my bf to stop using the nickname, and he was fine with it, but after a while he began using it again, then I told him again, then I heard him using it again, I got frustrated and just said a really loud \"aaah!!\" and bf got mad at me for \"making it such a big deal\".\\n\\nAITA?',\n",
       "  'score': 7,\n",
       "  'num_comments': 13,\n",
       "  'id': 'lu6hmj'}]"
      ]
     },
     "execution_count": 55,
     "metadata": {},
     "output_type": "execute_result"
    }
   ],
   "source": [
    "new_json[:2]"
   ]
  },
  {
   "cell_type": "code",
   "execution_count": 56,
   "id": "2b4af813",
   "metadata": {},
   "outputs": [
    {
     "data": {
      "text/plain": [
       "13105"
      ]
     },
     "execution_count": 56,
     "metadata": {},
     "output_type": "execute_result"
    }
   ],
   "source": [
    "len(new_json)"
   ]
  },
  {
   "cell_type": "code",
   "execution_count": 57,
   "id": "e8585161",
   "metadata": {},
   "outputs": [],
   "source": [
    "with open('post_data.json', 'w') as fout:\n",
    "    json.dump(new_json, fout)"
   ]
  },
  {
   "cell_type": "code",
   "execution_count": null,
   "id": "25cef48a",
   "metadata": {},
   "outputs": [],
   "source": []
  }
 ],
 "metadata": {
  "kernelspec": {
   "display_name": "Python 3",
   "language": "python",
   "name": "python3"
  },
  "language_info": {
   "codemirror_mode": {
    "name": "ipython",
    "version": 3
   },
   "file_extension": ".py",
   "mimetype": "text/x-python",
   "name": "python",
   "nbconvert_exporter": "python",
   "pygments_lexer": "ipython3",
   "version": "3.9.7"
  }
 },
 "nbformat": 4,
 "nbformat_minor": 5
}
