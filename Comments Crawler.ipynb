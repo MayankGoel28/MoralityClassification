{
 "cells": [
  {
   "cell_type": "code",
   "execution_count": 1,
   "id": "dda93855",
   "metadata": {},
   "outputs": [],
   "source": [
    "from pmaw import PushshiftAPI\n",
    "import json\n",
    "\n",
    "api = PushshiftAPI()\n",
    "f = open(\"post_data.json\", \"r\")\n",
    "x = json.load(f)\n",
    "post_ids = [item[\"id\"] for item in x]"
   ]
  },
  {
   "cell_type": "code",
   "execution_count": 5,
   "id": "c3ad1685",
   "metadata": {},
   "outputs": [
    {
     "data": {
      "text/plain": [
       "13105"
      ]
     },
     "execution_count": 5,
     "metadata": {},
     "output_type": "execute_result"
    }
   ],
   "source": [
    "len(post_ids)"
   ]
  },
  {
   "cell_type": "code",
   "execution_count": 6,
   "id": "62a54ea0",
   "metadata": {},
   "outputs": [],
   "source": [
    "import praw\n",
    "\n",
    "reddit = praw.Reddit(\n",
    "    client_id=\"nmFsrLnfE9Oq3w\",\n",
    "    client_secret=\"Sf8dz6jpMRsVWir6jCpsLQ6HTKs\",\n",
    "    user_agent=\"RedditScraper\",\n",
    ")"
   ]
  },
  {
   "cell_type": "code",
   "execution_count": 7,
   "id": "e327b24f",
   "metadata": {},
   "outputs": [],
   "source": [
    "all_data = []"
   ]
  },
  {
   "cell_type": "code",
   "execution_count": 8,
   "id": "2ff74e40",
   "metadata": {},
   "outputs": [],
   "source": [
    "from tqdm import tqdm"
   ]
  },
  {
   "cell_type": "code",
   "execution_count": 9,
   "id": "3091c277",
   "metadata": {},
   "outputs": [
    {
     "name": "stderr",
     "output_type": "stream",
     "text": [
      " 68%|██████▊   | 8946/13105 [4:55:23<2:50:46,  2.46s/it] "
     ]
    },
    {
     "name": "stdout",
     "output_type": "stream",
     "text": [
      "WARNING:prawcore:Retrying due to ReadTimeout(ReadTimeoutError(\"HTTPSConnectionPool(host='oauth.reddit.com', port=443): Read timed out. (read timeout=16)\")) status: GET https://oauth.reddit.com/comments/m0u6we/\n"
     ]
    },
    {
     "name": "stderr",
     "output_type": "stream",
     "text": [
      "100%|██████████| 13105/13105 [7:15:09<00:00,  1.99s/it]  \n"
     ]
    }
   ],
   "source": [
    "for post_id in tqdm(post_ids):\n",
    "    submission = reddit.submission(id=post_id)\n",
    "    item = {}\n",
    "    item['post_id'] = post_id\n",
    "    item['comments'] = []\n",
    "    try:\n",
    "        for comment in submission.comments:\n",
    "            try:\n",
    "                item['comments'].append(comment.body)\n",
    "            except:\n",
    "                pass\n",
    "    except:\n",
    "        print('ahem',post_id)\n",
    "    all_data.append(item)"
   ]
  },
  {
   "cell_type": "code",
   "execution_count": 10,
   "id": "2a110408",
   "metadata": {
    "scrolled": true
   },
   "outputs": [
    {
     "data": {
      "text/plain": [
       "13105"
      ]
     },
     "execution_count": 10,
     "metadata": {},
     "output_type": "execute_result"
    }
   ],
   "source": [
    "len(all_data)"
   ]
  },
  {
   "cell_type": "code",
   "execution_count": 11,
   "id": "648a56f8",
   "metadata": {},
   "outputs": [],
   "source": [
    "with open('comments_data.json', 'w') as fout:\n",
    "    json.dump(all_data, fout)"
   ]
  },
  {
   "cell_type": "code",
   "execution_count": null,
   "id": "02bb576b",
   "metadata": {},
   "outputs": [],
   "source": []
  }
 ],
 "metadata": {
  "kernelspec": {
   "display_name": "Python 3",
   "language": "python",
   "name": "python3"
  },
  "language_info": {
   "codemirror_mode": {
    "name": "ipython",
    "version": 3
   },
   "file_extension": ".py",
   "mimetype": "text/x-python",
   "name": "python",
   "nbconvert_exporter": "python",
   "pygments_lexer": "ipython3",
   "version": "3.9.7"
  }
 },
 "nbformat": 4,
 "nbformat_minor": 5
}
